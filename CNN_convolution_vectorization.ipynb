{
 "cells": [
  {
   "cell_type": "code",
   "execution_count": null,
   "metadata": {
    "colab": {},
    "colab_type": "code",
    "id": "VtKAj_g1SFXC"
   },
   "outputs": [],
   "source": [
    "import numpy as np\n",
    "import torch\n",
    "import torch.nn as nn\n",
    "import torch.nn.functional as F\n",
    "import tensorflow as tf"
   ]
  },
  {
   "cell_type": "code",
   "execution_count": null,
   "metadata": {
    "colab": {
     "base_uri": "https://localhost:8080/",
     "height": 221
    },
    "colab_type": "code",
    "id": "tlrziaPcSf8E",
    "outputId": "3a43a776-3864-49a2-d2ad-589dcb14bf78"
   },
   "outputs": [],
   "source": [
    "# original image dimensions\n",
    "# B * C * H * W\n",
    "batch = 6\n",
    "orig_img = np.arange(125*batch).reshape((batch, 5,5,5))\n",
    "batch, C, H, W = orig_img.shape"
   ]
  },
  {
   "cell_type": "code",
   "execution_count": null,
   "metadata": {
    "colab": {
     "base_uri": "https://localhost:8080/",
     "height": 850
    },
    "colab_type": "code",
    "id": "cpm7D2Z4hz6w",
    "outputId": "bda6d0c1-7557-4a6b-9302-7204f3f0a4da"
   },
   "outputs": [],
   "source": [
    "# original kernels\n",
    "# n_f * C * F1 *F2\n",
    "F1 = 1  # Height of kernels\n",
    "F2 = 2  # Widht of kernels\n",
    "n_f = 5   # Number of kernels\n",
    "orig_kernels = np.random.randn(n_f, C, F1, F2)\n",
    "n_f, C, F1, F2 = orig_kernels.shape"
   ]
  },
  {
   "cell_type": "code",
   "execution_count": null,
   "metadata": {},
   "outputs": [],
   "source": [
    "# https://stackoverflow.com/a/40840048\n",
    "# Refer above link for awesome answer on im2col\n",
    "\n",
    "def im2col(image,kernel_shape,strides=(1,1)):\n",
    "    A = image\n",
    "    B = kernel_shape\n",
    "    skip = strides\n",
    "\n",
    "    # Parameters \n",
    "    batch, D,M,N = A.shape\n",
    "    col_extent = N - B[1] + 1\n",
    "    row_extent = M - B[0] + 1\n",
    "\n",
    "    # Get batch block indices\n",
    "    batch_idx = np.arange(batch)[:, None, None] * D * M * N\n",
    "\n",
    "    # Get Starting block indices\n",
    "    start_idx = np.arange(B[0])[None, :,None]*N + np.arange(B[1])\n",
    "\n",
    "    # Generate Depth indeces\n",
    "    didx=M*N*np.arange(D)\n",
    "    start_idx=(didx[None, :, None]+start_idx.ravel()).reshape((-1,B[0],B[1]))\n",
    "\n",
    "    # Get offsetted indices across the height and width of input array\n",
    "    offset_idx = np.arange(row_extent)[None, :, None]*N + np.arange(col_extent)\n",
    "\n",
    "    # Get all actual indices & index into input array for final output\n",
    "    act_idx = (batch_idx + \n",
    "        start_idx.ravel()[None, :, None] + \n",
    "        offset_idx[:,::skip[0],::skip[1]].ravel())\n",
    "\n",
    "    out = np.take (A, act_idx)\n",
    "    \n",
    "    return out"
   ]
  },
  {
   "cell_type": "code",
   "execution_count": null,
   "metadata": {},
   "outputs": [],
   "source": [
    "def conv_2D(input, kernel, stride=(1,1), padding=(0,0)):\n",
    "    \"\"\"\n",
    "    Performs 2D convolution operation on image with tensorflow style padding.\n",
    "    \n",
    "    input: input image of shape batch * channels * height * width\n",
    "    kernel: kernel of shape no_of_kernels * channels * height * width\n",
    "    stride: Stride for height and width\n",
    "    padding: Either the string 'same','valid'(case sensitive) or list of list/tuples\n",
    "            list in the form of [[pad_top,pad_bottom],[pad_left,pad_right]]\n",
    "    \n",
    "    returns convoluted feature map\n",
    "    \"\"\"\n",
    "    input = np.float32(input)\n",
    "    S1 ,S2 = stride\n",
    "    N_K, C, K1, K2 = kernel.shape\n",
    "    B, C, H, W = input.shape\n",
    "\n",
    "    if padding == \"same\": \n",
    "        if (H % S1 == 0):\n",
    "            pad_along_height = np.max([K1 - S1, 0])\n",
    "        else:\n",
    "            pad_along_height = np.max([K1 - (H % S1), 0])\n",
    "        \n",
    "        if(W % S2 == 0):\n",
    "            pad_along_width = np.max([K2 - S2, 0])\n",
    "        else:\n",
    "            pad_along_width = np.max([K2 - (W % S2), 0])\n",
    "        \n",
    "        pad_top = int(np.floor(pad_along_height / 2))\n",
    "        pad_bottom = int(pad_along_height - pad_top)\n",
    "        pad_left = int(np.floor(pad_along_width / 2))\n",
    "        pad_right = int(pad_along_width - pad_left)\n",
    "            \n",
    "    elif padding == \"valid\":\n",
    "        pad_top, pad_bottom = (0,0)\n",
    "        pad_left, pad_right = (0,0)\n",
    "        \n",
    "    else:\n",
    "        pad_top, pad_bottom = padding[0]\n",
    "        pad_left, pad_right = padding[1]\n",
    "\n",
    "    input = np.pad(input, [(0,0),(0,0),(pad_top,pad_bottom),(pad_left,pad_right)])    \n",
    "    B, C, H, W = input.shape  \n",
    "    \n",
    "    # Output feature map height and width\n",
    "    H_ = np.int(np.floor((H - K1) / S1) + 1)\n",
    "    W_ = np.int(np.floor((W - K2) / S2) + 1)\n",
    "    \n",
    "    # im2col\n",
    "    input = im2col(input, (K1,K2), stride)\n",
    "    \n",
    "    input = np.hstack((input))\n",
    "    \n",
    "    kernel = kernel.reshape(N_K,-1)\n",
    "    \n",
    "    input = np.matmul(kernel, input)\n",
    "    \n",
    "    input = np.split(np.array(input), B, axis=1)\n",
    "    \n",
    "    input = np.array(input).reshape(B,N_K,H_,W_)\n",
    "    \n",
    "    return input"
   ]
  },
  {
   "cell_type": "code",
   "execution_count": null,
   "metadata": {},
   "outputs": [],
   "source": [
    "out = conv_2D(orig_img, orig_kernels, stride=(2,1), padding='valid')\n",
    "print(out.shape)\n",
    "print(out)"
   ]
  },
  {
   "cell_type": "code",
   "execution_count": null,
   "metadata": {},
   "outputs": [],
   "source": [
    "# Comparing with pytorch conv2d \n",
    "torch_out = F.conv2d(torch.Tensor(orig_img), torch.Tensor(orig_kernels),stride=(2,1))\n",
    "print(torch_out.shape)\n",
    "print(torch_out)"
   ]
  },
  {
   "cell_type": "code",
   "execution_count": null,
   "metadata": {},
   "outputs": [],
   "source": [
    "# converting from NCHW --> NHWC for testing with tensorflow\n",
    "orig_img_ = np.transpose(orig_img, [0,2,3,1]).astype(np.float64)\n",
    "orig_kernels_ = np.transpose(orig_kernels, [2,3,1,0])\n",
    "type(orig_img_[0,1,1,1])"
   ]
  },
  {
   "cell_type": "code",
   "execution_count": null,
   "metadata": {},
   "outputs": [],
   "source": [
    "tf_out = tf.nn.conv2d(tf.convert_to_tensor(orig_img_),tf.convert_to_tensor(orig_kernels_),(2,1),padding='VALID')\n",
    "print(tf_out.shape)\n",
    "print(tf_out)"
   ]
  },
  {
   "cell_type": "code",
   "execution_count": null,
   "metadata": {},
   "outputs": [],
   "source": [
    "def max_pool_2d(input, kernel_size=(2,2), stride=None, padding='valid'):\n",
    "    \"\"\"\n",
    "    Performs max pooling on input feature map.\n",
    "    input: input of shape B * C * H * W\n",
    "    kernel_size = height and widht of the kernel\n",
    "    stride = tuple of two integers, denoting strides along height and width of the image\n",
    "            if stride is none, then stride is same as kernel size.\n",
    "    padding = 'valid' or 'same' padding is possible\n",
    "    \"\"\"\n",
    "    if not stride:\n",
    "        # Stride same as kernel size\n",
    "        stride = kernel_size\n",
    "    \n",
    "    input = np.float32(input)\n",
    "    S1 ,S2 = stride\n",
    "    K1, K2 = kernel_size\n",
    "    B, C, H, W = input.shape\n",
    "        \n",
    "    if padding == 'valid':\n",
    "        # No padding\n",
    "        pad_top, pad_bottom = (0,0)\n",
    "        pad_left, pad_right = (0,0)\n",
    "    elif padding == 'same':\n",
    "        # this make sure input height and widht is divisible by the stride\n",
    "        if (H % S1 == 0):\n",
    "            pad_along_height = np.max(K1 - S1, 0)\n",
    "        else:\n",
    "            pad_along_height = np.max(K1 - (H % S1), 0)\n",
    "        \n",
    "        if(W % S2 == 0):\n",
    "            pad_along_width = np.max(K2 - S2, 0)\n",
    "        else:\n",
    "            pad_along_width = np.max(K2 - (W % S2), 0)\n",
    "        \n",
    "        pad_top = int(np.floor(pad_along_height / 2))\n",
    "        pad_bottom = int(pad_along_height - pad_top)\n",
    "        pad_left = int(np.floor(pad_along_width / 2))\n",
    "        pad_right = int(pad_along_width - pad_left)\n",
    "    else:\n",
    "        print(r'only same and valid padding is possible')\n",
    "        return\n",
    "    \n",
    "    input = np.pad(input, [(0,0),(0,0),(pad_top,pad_bottom),(pad_left,pad_right)], mode='constant', constant_values=np.NINF)    \n",
    "    B, C, H, W = input.shape  \n",
    "    \n",
    "    # Output feature map height and width\n",
    "    H_ = np.int(np.floor((H - K1) / S1) + 1)\n",
    "    W_ = np.int(np.floor((W - K2) / S2) + 1)\n",
    "    \n",
    "    # im2col\n",
    "    input = im2col(input, kernel_size, stride)\n",
    "    \n",
    "    input = input.reshape(B,C,K1*K2,H_*W_)\n",
    "    \n",
    "    print(np.argmax(input,2).reshape(B,C,H_,W_))\n",
    "    input = np.max(input,2).reshape(B,C,H_,W_)\n",
    "    \n",
    "    return input    "
   ]
  },
  {
   "cell_type": "code",
   "execution_count": null,
   "metadata": {},
   "outputs": [],
   "source": [
    "max_pool_2d(orig_img, (2,2), padding=\"same\") # outputs in NCHW format"
   ]
  },
  {
   "cell_type": "code",
   "execution_count": null,
   "metadata": {},
   "outputs": [],
   "source": [
    "max_pool_layer = tf.keras.layers.MaxPool2D((2,2),padding='same', dtype='float64')\n",
    "max_pool_layer(tf.convert_to_tensor(orig_img_)) # Outputs in NHWC format, therefore output might look different than mine."
   ]
  },
  {
   "cell_type": "code",
   "execution_count": 68,
   "metadata": {},
   "outputs": [],
   "source": [
    "def avg_pool_2d(input, kernel_size=(2,2), stride=None, padding='valid'):\n",
    "    \"\"\"\n",
    "    Performs average pooling on input feature map.\n",
    "    input: input of shape B * C * H * W\n",
    "    kernel_size = height and widht of the kernel\n",
    "    stride = tuple of two integers, denoting strides along height and width of the image\n",
    "            if stride is none, then stride is same as kernel size.\n",
    "    padding = 'valid' or 'same' padding is possible\n",
    "    \"\"\"\n",
    "    if not stride:\n",
    "        # Stride same as kernel size\n",
    "        stride = kernel_size\n",
    "    \n",
    "    input = np.float32(input)\n",
    "    S1 ,S2 = stride\n",
    "    K1, K2 = kernel_size\n",
    "    B, C, H, W = input.shape\n",
    "        \n",
    "    if padding == 'valid':\n",
    "        # No padding\n",
    "        pad_top, pad_bottom = (0,0)\n",
    "        pad_left, pad_right = (0,0)\n",
    "    elif padding == 'same':\n",
    "        # this make sure input height and width is divisible by the stride\n",
    "        if (H % S1 == 0):\n",
    "            pad_along_height = np.max(K1 - S1, 0)\n",
    "        else:\n",
    "            pad_along_height = np.max(K1 - (H % S1), 0)\n",
    "        \n",
    "        if(W % S2 == 0):\n",
    "            pad_along_width = np.max(K2 - S2, 0)\n",
    "        else:\n",
    "            pad_along_width = np.max(K2 - (W % S2), 0)\n",
    "        \n",
    "        pad_top = int(np.floor(pad_along_height / 2))\n",
    "        pad_bottom = int(pad_along_height - pad_top)\n",
    "        pad_left = int(np.floor(pad_along_width / 2))\n",
    "        pad_right = int(pad_along_width - pad_left)\n",
    "    else:\n",
    "        print(r'only same and valid padding is possible')\n",
    "        return\n",
    "    \n",
    "    # Padding with nan's because we don't want to include them while calculating average\n",
    "    input = np.pad(input, [(0,0),(0,0),(pad_top,pad_bottom),(pad_left,pad_right)], mode='constant', constant_values=np.nan)    \n",
    "    B, C, H, W = input.shape  \n",
    "    \n",
    "    # Output feature map height and width\n",
    "    H_ = np.int(np.floor((H - K1) / S1) + 1)\n",
    "    W_ = np.int(np.floor((W - K2) / S2) + 1)\n",
    "    \n",
    "    # im2col\n",
    "    input = im2col(input, kernel_size, stride)\n",
    "    \n",
    "    input = input.reshape(B,C,K1*K2,H_*W_)\n",
    "    \n",
    "    #\n",
    "    input = np.nanmean(input,2).reshape(B,C,H_,W_)\n",
    "    \n",
    "    return input    "
   ]
  },
  {
   "cell_type": "code",
   "execution_count": null,
   "metadata": {},
   "outputs": [],
   "source": [
    "avg_pool_2d(orig_img, (2,2), padding='same')"
   ]
  },
  {
   "cell_type": "code",
   "execution_count": null,
   "metadata": {},
   "outputs": [],
   "source": [
    "avg_pool_layer = tf.keras.layers.AveragePooling2D((2,2),padding='same', dtype='float64',)\n",
    "avg_pool_layer(tf.convert_to_tensor(orig_img_)) # Outputs in NHWC format"
   ]
  }
 ],
 "metadata": {
  "colab": {
   "name": "CNN convolution vectorization",
   "provenance": []
  },
  "kernelspec": {
   "display_name": "Python 3",
   "language": "python",
   "name": "python3"
  },
  "language_info": {
   "codemirror_mode": {
    "name": "ipython",
    "version": 3
   },
   "file_extension": ".py",
   "mimetype": "text/x-python",
   "name": "python",
   "nbconvert_exporter": "python",
   "pygments_lexer": "ipython3",
   "version": "3.7.5"
  }
 },
 "nbformat": 4,
 "nbformat_minor": 1
}
