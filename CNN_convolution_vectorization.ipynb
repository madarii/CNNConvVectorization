{
 "cells": [
  {
   "cell_type": "code",
   "execution_count": null,
   "metadata": {
    "colab": {},
    "colab_type": "code",
    "id": "VtKAj_g1SFXC"
   },
   "outputs": [],
   "source": [
    "import numpy as np\n",
    "import torch\n",
    "import torch.nn.functional as F"
   ]
  },
  {
   "cell_type": "code",
   "execution_count": null,
   "metadata": {
    "colab": {
     "base_uri": "https://localhost:8080/",
     "height": 221
    },
    "colab_type": "code",
    "id": "tlrziaPcSf8E",
    "outputId": "3a43a776-3864-49a2-d2ad-589dcb14bf78"
   },
   "outputs": [],
   "source": [
    "# original image dimensions\n",
    "# C * H * W\n",
    "batch = 6\n",
    "orig_img = np.arange(125*batch).reshape((batch, 5,5,5))\n",
    "print(orig_img.shape)\n",
    "print(orig_img)\n",
    "batch, C, H, W = orig_img.shape"
   ]
  },
  {
   "cell_type": "code",
   "execution_count": null,
   "metadata": {
    "colab": {
     "base_uri": "https://localhost:8080/",
     "height": 850
    },
    "colab_type": "code",
    "id": "cpm7D2Z4hz6w",
    "outputId": "bda6d0c1-7557-4a6b-9302-7204f3f0a4da"
   },
   "outputs": [],
   "source": [
    "# original kernels\n",
    "\n",
    "F1 = 3  # Height of kernels\n",
    "F2 = 2  # Widht of kernels\n",
    "n_f = 5   # Number of kernels\n",
    "orig_kernels = np.random.randn(n_f, C, F1, F2)\n",
    "print(orig_kernels.shape)\n",
    "print(orig_kernels)\n",
    "n_f, C, F1, F2 = orig_kernels.shape"
   ]
  },
  {
   "cell_type": "code",
   "execution_count": null,
   "metadata": {},
   "outputs": [],
   "source": [
    "strides = (2,1)\n",
    "S1, S2 = strides"
   ]
  },
  {
   "cell_type": "code",
   "execution_count": 126,
   "metadata": {},
   "outputs": [],
   "source": [
    "# Output feature image height and width(Leaving out padding for now)\n",
    "H_ = np.int(np.floor((H - F1) / S1) + 1)\n",
    "W_ = np.int(np.floor((W - F2) / S2) + 1)"
   ]
  },
  {
   "cell_type": "code",
   "execution_count": null,
   "metadata": {},
   "outputs": [],
   "source": [
    "print(H_,W_)"
   ]
  },
  {
   "cell_type": "code",
   "execution_count": null,
   "metadata": {},
   "outputs": [],
   "source": [
    "# https://stackoverflow.com/a/40840048\n",
    "# Refer above link for awesome answer on im2col\n",
    "\n",
    "def im2col(image,kernel_shape,strides=(1,1)):\n",
    "    A = image\n",
    "    B = kernel_shape\n",
    "    skip = strides\n",
    "\n",
    "    # Parameters \n",
    "    batch, D,M,N = A.shape\n",
    "    col_extent = N - B[1] + 1\n",
    "    row_extent = M - B[0] + 1\n",
    "\n",
    "    # Get batch block indices\n",
    "    batch_idx = np.arange(batch)[:, None, None] * D * M * N\n",
    "\n",
    "    # Get Starting block indices\n",
    "    start_idx = np.arange(B[0])[None, :,None]*N + np.arange(B[1])\n",
    "\n",
    "    # Generate Depth indeces\n",
    "    didx=M*N*np.arange(D)\n",
    "    start_idx=(didx[None, :, None]+start_idx.ravel()).reshape((-1,B[0],B[1]))\n",
    "\n",
    "    # Get offsetted indices across the height and width of input array\n",
    "    offset_idx = np.arange(row_extent)[None, :, None]*N + np.arange(col_extent)\n",
    "\n",
    "    # Get all actual indices & index into input array for final output\n",
    "    act_idx = (batch_idx + \n",
    "        start_idx.ravel()[None, :, None] + \n",
    "        offset_idx[:,::skip[0],::skip[1]].ravel())\n",
    "\n",
    "    out = np.take (A, act_idx)\n",
    "    \n",
    "    return out"
   ]
  },
  {
   "cell_type": "code",
   "execution_count": null,
   "metadata": {},
   "outputs": [],
   "source": [
    "\n",
    "im2col_img = im2col(orig_img,(F1,F2),strides)\n",
    "print(im2col_img)"
   ]
  },
  {
   "cell_type": "code",
   "execution_count": null,
   "metadata": {},
   "outputs": [],
   "source": [
    "img_stacked = np.hstack((im2col_img))\n",
    "img_stacked"
   ]
  },
  {
   "cell_type": "code",
   "execution_count": null,
   "metadata": {},
   "outputs": [],
   "source": [
    "kernels = orig_kernels.reshape(n_f,-1)\n",
    "print(kernels.shape)\n",
    "print(kernels)"
   ]
  },
  {
   "cell_type": "code",
   "execution_count": null,
   "metadata": {},
   "outputs": [],
   "source": [
    "final_img = np.matmul(kernels, img_stacked)\n",
    "print(final_img)\n",
    "print(final_img.shape)"
   ]
  },
  {
   "cell_type": "code",
   "execution_count": null,
   "metadata": {},
   "outputs": [],
   "source": [
    "final_img = np.split(np.array(final_img), batch, axis=1)\n",
    "print(final_img)"
   ]
  },
  {
   "cell_type": "code",
   "execution_count": null,
   "metadata": {},
   "outputs": [],
   "source": [
    "final_img = np.float32(np.array(final_img).reshape(batch,n_f,H_,W_))\n",
    "print(final_img)\n",
    "print(final_img.shape)"
   ]
  },
  {
   "cell_type": "code",
   "execution_count": null,
   "metadata": {},
   "outputs": [],
   "source": [
    "F.conv2d(torch.Tensor(orig_img), torch.Tensor(orig_kernels),stride=(2,1))"
   ]
  },
  {
   "cell_type": "code",
   "execution_count": null,
   "metadata": {},
   "outputs": [],
   "source": []
  },
  {
   "cell_type": "code",
   "execution_count": null,
   "metadata": {},
   "outputs": [],
   "source": []
  }
 ],
 "metadata": {
  "colab": {
   "name": "CNN convolution vectorization",
   "provenance": []
  },
  "kernelspec": {
   "display_name": "Python 3",
   "language": "python",
   "name": "python3"
  },
  "language_info": {
   "codemirror_mode": {
    "name": "ipython",
    "version": 3
   },
   "file_extension": ".py",
   "mimetype": "text/x-python",
   "name": "python",
   "nbconvert_exporter": "python",
   "pygments_lexer": "ipython3",
   "version": "3.7.5"
  }
 },
 "nbformat": 4,
 "nbformat_minor": 1
}
